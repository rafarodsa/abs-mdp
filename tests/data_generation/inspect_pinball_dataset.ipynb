{
 "cells": [
  {
   "cell_type": "code",
   "execution_count": null,
   "metadata": {},
   "outputs": [],
   "source": [
    "import torch\n",
    "import numpy as np\n",
    "import matplotlib.pyplot as plt\n",
    "import pprint"
   ]
  },
  {
   "cell_type": "code",
   "execution_count": null,
   "metadata": {},
   "outputs": [],
   "source": [
    "# Load dataset\n",
    "dataset_path = '/users/rrodri19/abs-mdp/experiments/pb_obstacles/pixel/data/simple.pt'\n",
    "debug_data = '/Users/rrs/Desktop/abs-mdp/data/pinball_simple_obs_debug.pt'\n",
    "dataset, _ = torch.load(dataset_path)\n",
    "# debug = torch.load(debug_data)\n"
   ]
  },
  {
   "cell_type": "code",
   "execution_count": null,
   "metadata": {},
   "outputs": [],
   "source": [
    "\n",
    "# Split dataset into states, actions, rewards, etc.\n",
    "obs, actions, next_obs, rewards, executed, duration, initiation_masks = zip(*dataset)"
   ]
  },
  {
   "cell_type": "code",
   "execution_count": null,
   "metadata": {},
   "outputs": [],
   "source": [
    "def process_reward(rewards, duration):\n",
    "    rewards = map(lambda r, duration: sum(r)/duration if duration > 0 else 0, rewards, duration)\n",
    "    return np.array(list(rewards))"
   ]
  },
  {
   "cell_type": "code",
   "execution_count": null,
   "metadata": {},
   "outputs": [],
   "source": [
    "# Convert to numpy arrays\n",
    "obs = np.array(obs)\n",
    "actions = np.array(actions)\n",
    "next_obs = np.array(next_obs)\n",
    "executed = np.array(executed)\n",
    "initiation_masks = np.array(initiation_masks)\n",
    "rewards = process_reward(rewards, duration)\n",
    "duration = np.array(duration)\n",
    "# Sample dataset\n",
    "N = obs.shape[0]\n"
   ]
  },
  {
   "cell_type": "code",
   "execution_count": null,
   "metadata": {},
   "outputs": [],
   "source": [
    "latent_states = debug['latent_states']\n",
    "s = np.array(list(map(lambda x: x['state'], latent_states)))\n",
    "next_s = np.array(list(map(lambda x: x['next_state'], latent_states)))\n",
    "\n",
    "# plot initial positions\n",
    "plt.scatter(s[:,0], s[:,1], marker='x')\n"
   ]
  },
  {
   "cell_type": "code",
   "execution_count": null,
   "metadata": {},
   "outputs": [],
   "source": [
    "# Visualize overlayed pixel observations\n",
    "def overlay_image(obs, next_obs):\n",
    "    return (obs+next_obs)/2"
   ]
  },
  {
   "cell_type": "code",
   "execution_count": null,
   "metadata": {},
   "outputs": [],
   "source": [
    "# Compute statistics\n",
    "\n",
    "for a in range(max(actions)+1):\n",
    "    print(f'Action {a}:')\n",
    "    idx = actions == a\n",
    "    _executed = executed[idx]\n",
    "    # rewards\n",
    "    mean_reward = rewards[idx][_executed==1]\n",
    "    print(f'\\tMax reward: {mean_reward.max()}', f'\\tMean reward: {mean_reward.mean()}', f'\\tMin reward: {mean_reward.min()}')\n",
    "    # duration\n",
    "    mean_duration = duration[idx][_executed==1].mean()\n",
    "    print(f'\\tMax duration: {duration[idx].max()}', f'\\tMean duration: {mean_duration}', f'\\tMin duration: {duration[idx].min()}')\n",
    "    # executed\n",
    "    mean_executed = executed[idx].mean()\n",
    "    print(f'\\tProbability of initial execution: {mean_executed}')"
   ]
  },
  {
   "cell_type": "code",
   "execution_count": null,
   "metadata": {},
   "outputs": [],
   "source": [
    "pp = pprint.pprint(debug['stats'])"
   ]
  },
  {
   "cell_type": "code",
   "execution_count": null,
   "metadata": {},
   "outputs": [],
   "source": [
    "# Random observations\n",
    "sample = np.random.choice(N, 2, replace=False)\n",
    "obs1, obs2 = obs[sample]\n",
    "plt.subplot(1, 3, 1)\n",
    "plt.imshow(overlay_image(obs1, obs2))\n",
    "plt.subplot(1, 3, 2)\n",
    "plt.imshow(obs1)\n",
    "plt.subplot(1, 3, 3)\n",
    "plt.imshow(obs2)"
   ]
  },
  {
   "cell_type": "code",
   "execution_count": null,
   "metadata": {},
   "outputs": [],
   "source": [
    "# Sample observations for executed actions\n",
    "n_samples = 4\n",
    "executed_idx = executed == 1\n",
    "obs_executed = obs[executed_idx]\n",
    "next_obs_executed = next_obs[executed_idx]\n",
    "sampled_indices = np.random.choice(obs_executed.shape[0], n_samples, replace=False)\n",
    "\n",
    "action_executed = actions[executed_idx][sampled_indices]\n",
    "s_executed = s[executed_idx]\n",
    "next_s_executed = next_s[executed_idx]\n",
    "\n",
    "# Plot Executed executed\n",
    "for sample in range(n_samples):\n",
    "    # plt.subplot(4, 1, sample+1)\n",
    "    plt.figure()\n",
    "    # set action name as title\n",
    "    plt.subplot(1, 3, 1)\n",
    "    plt.title(f'Action: {debug[\"options\"][action_executed[sample]]}')\n",
    "    plt.imshow(overlay_image(obs_executed[sampled_indices[sample]], next_obs_executed[sampled_indices[sample]]))\n",
    "    plt.subplot(1, 3, 2)\n",
    "    plt.title(f'Duration: {duration[executed_idx][sampled_indices[sample]]}')\n",
    "    plt.imshow(obs_executed[sampled_indices[sample]])\n",
    "    plt.subplot(1, 3, 3)\n",
    "    disp = next_s_executed[sampled_indices[sample]] - s_executed[sampled_indices[sample]]\n",
    "    print(s_executed[sampled_indices[sample]])\n",
    "    i = np.argmax(np.abs(disp[:2]))\n",
    "    plt.title(f'Disp{i}: {disp[i]:.2f}')\n",
    "    plt.imshow(next_obs_executed[sampled_indices[sample]])"
   ]
  },
  {
   "cell_type": "code",
   "execution_count": null,
   "metadata": {},
   "outputs": [],
   "source": [
    "# Sample observations for executed actions\n",
    "n_samples = 4\n",
    "actions_ = np.logical_and(np.logical_or(actions==0, actions==1), executed==1)\n",
    "executed_idx = actions_ #executed == 1\n",
    "obs_executed = obs[executed_idx]\n",
    "next_obs_executed = next_obs[executed_idx]\n",
    "sampled_indices = np.random.choice(obs_executed.shape[0], n_samples, replace=False)\n",
    "\n",
    "action_executed = actions[executed_idx][sampled_indices]\n",
    "s_executed = s[executed_idx]\n",
    "next_s_executed = next_s[executed_idx]\n",
    "\n",
    "# Plot Executed executed\n",
    "for sample in range(n_samples):\n",
    "    # plt.subplot(4, 1, sample+1)\n",
    "    plt.figure()\n",
    "    # set action name as title\n",
    "    plt.subplot(1, 3, 1)\n",
    "    plt.title(f'Action: {debug[\"options\"][action_executed[sample]]}')\n",
    "    plt.imshow(overlay_image(obs_executed[sampled_indices[sample]], next_obs_executed[sampled_indices[sample]]))\n",
    "    plt.subplot(1, 3, 2)\n",
    "    plt.title(f'Duration: {duration[executed_idx][sampled_indices[sample]]}')\n",
    "    plt.imshow(obs_executed[sampled_indices[sample]])\n",
    "    plt.subplot(1, 3, 3)\n",
    "    disp = next_s_executed[sampled_indices[sample]] - s_executed[sampled_indices[sample]]\n",
    "    print(s_executed[sampled_indices[sample]])\n",
    "    i = np.argmax(np.abs(disp[:2]))\n",
    "    plt.title(f'Disp{i}: {disp[i]:.2f}')\n",
    "    plt.imshow(next_obs_executed[sampled_indices[sample]])"
   ]
  }
 ],
 "metadata": {
  "kernelspec": {
   "display_name": "Python 3 (ipykernel)",
   "language": "python",
   "name": "python3"
  },
  "language_info": {
   "codemirror_mode": {
    "name": "ipython",
    "version": 3
   },
   "file_extension": ".py",
   "mimetype": "text/x-python",
   "name": "python",
   "nbconvert_exporter": "python",
   "pygments_lexer": "ipython3",
   "version": "3.9.0"
  },
  "vscode": {
   "interpreter": {
    "hash": "606df5749003beeabc40198cfe0344c3e31ca57001b6bb84e1bf11cc26c42813"
   }
  }
 },
 "nbformat": 4,
 "nbformat_minor": 2
}
